{
 "cells": [
  {
   "cell_type": "markdown",
   "id": "6220b792",
   "metadata": {},
   "source": [
    "# Fake News Classification using Deep Learning!"
   ]
  },
  {
   "cell_type": "code",
   "execution_count": 1,
   "id": "74a83cf0",
   "metadata": {},
   "outputs": [
    {
     "name": "stderr",
     "output_type": "stream",
     "text": [
      "[nltk_data] Downloading package stopwords to /home/dark/nltk_data...\n",
      "[nltk_data]   Package stopwords is already up-to-date!\n"
     ]
    }
   ],
   "source": [
    "# Importing Libraries\n",
    "import pandas as pd\n",
    "import numpy as np\n",
    "import nltk\n",
    "import re\n",
    "from nltk.corpus import stopwords\n",
    "nltk.download('stopwords')\n",
    "from tensorflow.keras.layers import Embedding,Dropout\n",
    "from tensorflow.keras.preprocessing.sequence import pad_sequences\n",
    "from tensorflow.keras.models import Sequential\n",
    "from tensorflow.keras.preprocessing.text import one_hot\n",
    "from tensorflow.keras.layers import LSTM,Bidirectional,GRU\n",
    "from tensorflow.keras.layers import Dense\n",
    "from sklearn.metrics import classification_report,accuracy_score\n",
    "from sklearn.linear_model import LogisticRegression\n",
    "from sklearn.tree import DecisionTreeClassifier\n",
    "from sklearn.ensemble import RandomForestClassifier\n",
    "from xgboost import XGBClassifier\n",
    "from catboost import CatBoostClassifier\n",
    "from sklearn.linear_model import LogisticRegression\n",
    "from sklearn.naive_bayes import MultinomialNB"
   ]
  },
  {
   "cell_type": "code",
   "execution_count": 2,
   "id": "3f027cc8",
   "metadata": {},
   "outputs": [
    {
     "data": {
      "text/html": [
       "<div>\n",
       "<style scoped>\n",
       "    .dataframe tbody tr th:only-of-type {\n",
       "        vertical-align: middle;\n",
       "    }\n",
       "\n",
       "    .dataframe tbody tr th {\n",
       "        vertical-align: top;\n",
       "    }\n",
       "\n",
       "    .dataframe thead th {\n",
       "        text-align: right;\n",
       "    }\n",
       "</style>\n",
       "<table border=\"1\" class=\"dataframe\">\n",
       "  <thead>\n",
       "    <tr style=\"text-align: right;\">\n",
       "      <th></th>\n",
       "      <th>id</th>\n",
       "      <th>title</th>\n",
       "      <th>author</th>\n",
       "      <th>text</th>\n",
       "      <th>label</th>\n",
       "    </tr>\n",
       "  </thead>\n",
       "  <tbody>\n",
       "    <tr>\n",
       "      <th>0</th>\n",
       "      <td>0</td>\n",
       "      <td>House Dem Aide: We Didn’t Even See Comey’s Let...</td>\n",
       "      <td>Darrell Lucus</td>\n",
       "      <td>House Dem Aide: We Didn’t Even See Comey’s Let...</td>\n",
       "      <td>1</td>\n",
       "    </tr>\n",
       "    <tr>\n",
       "      <th>1</th>\n",
       "      <td>1</td>\n",
       "      <td>FLYNN: Hillary Clinton, Big Woman on Campus - ...</td>\n",
       "      <td>Daniel J. Flynn</td>\n",
       "      <td>Ever get the feeling your life circles the rou...</td>\n",
       "      <td>0</td>\n",
       "    </tr>\n",
       "    <tr>\n",
       "      <th>2</th>\n",
       "      <td>2</td>\n",
       "      <td>Why the Truth Might Get You Fired</td>\n",
       "      <td>Consortiumnews.com</td>\n",
       "      <td>Why the Truth Might Get You Fired October 29, ...</td>\n",
       "      <td>1</td>\n",
       "    </tr>\n",
       "    <tr>\n",
       "      <th>3</th>\n",
       "      <td>3</td>\n",
       "      <td>15 Civilians Killed In Single US Airstrike Hav...</td>\n",
       "      <td>Jessica Purkiss</td>\n",
       "      <td>Videos 15 Civilians Killed In Single US Airstr...</td>\n",
       "      <td>1</td>\n",
       "    </tr>\n",
       "    <tr>\n",
       "      <th>4</th>\n",
       "      <td>4</td>\n",
       "      <td>Iranian woman jailed for fictional unpublished...</td>\n",
       "      <td>Howard Portnoy</td>\n",
       "      <td>Print \\nAn Iranian woman has been sentenced to...</td>\n",
       "      <td>1</td>\n",
       "    </tr>\n",
       "  </tbody>\n",
       "</table>\n",
       "</div>"
      ],
      "text/plain": [
       "   id                                              title              author  \\\n",
       "0   0  House Dem Aide: We Didn’t Even See Comey’s Let...       Darrell Lucus   \n",
       "1   1  FLYNN: Hillary Clinton, Big Woman on Campus - ...     Daniel J. Flynn   \n",
       "2   2                  Why the Truth Might Get You Fired  Consortiumnews.com   \n",
       "3   3  15 Civilians Killed In Single US Airstrike Hav...     Jessica Purkiss   \n",
       "4   4  Iranian woman jailed for fictional unpublished...      Howard Portnoy   \n",
       "\n",
       "                                                text  label  \n",
       "0  House Dem Aide: We Didn’t Even See Comey’s Let...      1  \n",
       "1  Ever get the feeling your life circles the rou...      0  \n",
       "2  Why the Truth Might Get You Fired October 29, ...      1  \n",
       "3  Videos 15 Civilians Killed In Single US Airstr...      1  \n",
       "4  Print \\nAn Iranian woman has been sentenced to...      1  "
      ]
     },
     "execution_count": 2,
     "metadata": {},
     "output_type": "execute_result"
    }
   ],
   "source": [
    "# Reading data from csv\n",
    "train = pd.read_csv(\"train.csv\")\n",
    "test  = pd.read_csv(\"test.csv\")\n",
    "train.head()"
   ]
  },
  {
   "cell_type": "code",
   "execution_count": 3,
   "id": "9785f196",
   "metadata": {},
   "outputs": [
    {
     "data": {
      "text/html": [
       "<div>\n",
       "<style scoped>\n",
       "    .dataframe tbody tr th:only-of-type {\n",
       "        vertical-align: middle;\n",
       "    }\n",
       "\n",
       "    .dataframe tbody tr th {\n",
       "        vertical-align: top;\n",
       "    }\n",
       "\n",
       "    .dataframe thead th {\n",
       "        text-align: right;\n",
       "    }\n",
       "</style>\n",
       "<table border=\"1\" class=\"dataframe\">\n",
       "  <thead>\n",
       "    <tr style=\"text-align: right;\">\n",
       "      <th></th>\n",
       "      <th>id</th>\n",
       "      <th>title</th>\n",
       "      <th>author</th>\n",
       "      <th>text</th>\n",
       "    </tr>\n",
       "  </thead>\n",
       "  <tbody>\n",
       "    <tr>\n",
       "      <th>0</th>\n",
       "      <td>20800</td>\n",
       "      <td>Specter of Trump Loosens Tongues, if Not Purse...</td>\n",
       "      <td>David Streitfeld</td>\n",
       "      <td>PALO ALTO, Calif.  —   After years of scorning...</td>\n",
       "    </tr>\n",
       "    <tr>\n",
       "      <th>1</th>\n",
       "      <td>20801</td>\n",
       "      <td>Russian warships ready to strike terrorists ne...</td>\n",
       "      <td>NaN</td>\n",
       "      <td>Russian warships ready to strike terrorists ne...</td>\n",
       "    </tr>\n",
       "    <tr>\n",
       "      <th>2</th>\n",
       "      <td>20802</td>\n",
       "      <td>#NoDAPL: Native American Leaders Vow to Stay A...</td>\n",
       "      <td>Common Dreams</td>\n",
       "      <td>Videos #NoDAPL: Native American Leaders Vow to...</td>\n",
       "    </tr>\n",
       "    <tr>\n",
       "      <th>3</th>\n",
       "      <td>20803</td>\n",
       "      <td>Tim Tebow Will Attempt Another Comeback, This ...</td>\n",
       "      <td>Daniel Victor</td>\n",
       "      <td>If at first you don’t succeed, try a different...</td>\n",
       "    </tr>\n",
       "    <tr>\n",
       "      <th>4</th>\n",
       "      <td>20804</td>\n",
       "      <td>Keiser Report: Meme Wars (E995)</td>\n",
       "      <td>Truth Broadcast Network</td>\n",
       "      <td>42 mins ago 1 Views 0 Comments 0 Likes 'For th...</td>\n",
       "    </tr>\n",
       "  </tbody>\n",
       "</table>\n",
       "</div>"
      ],
      "text/plain": [
       "      id                                              title  \\\n",
       "0  20800  Specter of Trump Loosens Tongues, if Not Purse...   \n",
       "1  20801  Russian warships ready to strike terrorists ne...   \n",
       "2  20802  #NoDAPL: Native American Leaders Vow to Stay A...   \n",
       "3  20803  Tim Tebow Will Attempt Another Comeback, This ...   \n",
       "4  20804                    Keiser Report: Meme Wars (E995)   \n",
       "\n",
       "                    author                                               text  \n",
       "0         David Streitfeld  PALO ALTO, Calif.  —   After years of scorning...  \n",
       "1                      NaN  Russian warships ready to strike terrorists ne...  \n",
       "2            Common Dreams  Videos #NoDAPL: Native American Leaders Vow to...  \n",
       "3            Daniel Victor  If at first you don’t succeed, try a different...  \n",
       "4  Truth Broadcast Network  42 mins ago 1 Views 0 Comments 0 Likes 'For th...  "
      ]
     },
     "execution_count": 3,
     "metadata": {},
     "output_type": "execute_result"
    }
   ],
   "source": [
    "test.head()"
   ]
  },
  {
   "cell_type": "code",
   "execution_count": 4,
   "id": "86a4e122",
   "metadata": {},
   "outputs": [
    {
     "name": "stdout",
     "output_type": "stream",
     "text": [
      "There are 20800 number of rows and 5 number of columns for training.\n",
      "There are 5200 number of rows and 4 number of columns for testing.\n"
     ]
    }
   ],
   "source": [
    "# Displaying rows and columns in dataset\n",
    "print(\"There are {} number of rows and {} number of columns for training.\".format(train.shape[0],train.shape[1]))\n",
    "print(\"There are {} number of rows and {} number of columns for testing.\".format(test.shape[0],test.shape[1]))"
   ]
  },
  {
   "cell_type": "code",
   "execution_count": 5,
   "id": "773894be",
   "metadata": {},
   "outputs": [
    {
     "data": {
      "text/plain": [
       "id           0\n",
       "title      558\n",
       "author    1957\n",
       "text        39\n",
       "label        0\n",
       "dtype: int64"
      ]
     },
     "execution_count": 5,
     "metadata": {},
     "output_type": "execute_result"
    }
   ],
   "source": [
    "# Checking the null values in training data.\n",
    "train.isnull().sum()"
   ]
  },
  {
   "cell_type": "code",
   "execution_count": 6,
   "id": "0044b1f4",
   "metadata": {},
   "outputs": [
    {
     "data": {
      "text/plain": [
       "id          0\n",
       "title     122\n",
       "author    503\n",
       "text        7\n",
       "dtype: int64"
      ]
     },
     "execution_count": 6,
     "metadata": {},
     "output_type": "execute_result"
    }
   ],
   "source": [
    "# Checking the null values in testing data.\n",
    "test.isnull().sum()"
   ]
  },
  {
   "cell_type": "code",
   "execution_count": 7,
   "id": "c45dcf89",
   "metadata": {},
   "outputs": [],
   "source": [
    "# Handling nan values in dataset using empty spaces\n",
    "def handle_nan(train_data,test_data):\n",
    "    '''Input: Data to the function containing Nan values.\n",
    "       Output : Cleaned data containing no Nan values.\n",
    "       Function: Cleaning Nan values.\n",
    "     '''\n",
    "    train = train_data.fillna(\" \")\n",
    "    test  = test_data.fillna(\" \")\n",
    "    return train,test\n",
    "\n",
    "train,test = handle_nan(train,test)"
   ]
  },
  {
   "cell_type": "code",
   "execution_count": 8,
   "id": "8696ab3e",
   "metadata": {},
   "outputs": [],
   "source": [
    "# Creating a variable \"merged\" by merging columns \"title\" and \"author\"\n",
    "train[\"merged\"] = train[\"title\"]+\" \"+train[\"author\"]\n",
    "test[\"merged\"]  = test[\"title\"]+\" \"+test[\"author\"]"
   ]
  },
  {
   "cell_type": "code",
   "execution_count": 9,
   "id": "8ae63498",
   "metadata": {},
   "outputs": [],
   "source": [
    "# Seperating Independent and dependent features\n",
    "X = train.drop(columns=['label'],axis=1)\n",
    "y = train['label']"
   ]
  },
  {
   "cell_type": "code",
   "execution_count": 10,
   "id": "b859629f",
   "metadata": {},
   "outputs": [],
   "source": [
    "# Creating One-Hot Representations\n",
    "messages = X.copy()\n",
    "messages.reset_index(inplace=True)\n",
    "messages_test = test.copy()\n",
    "messages_test.reset_index(inplace=True)"
   ]
  },
  {
   "cell_type": "code",
   "execution_count": 11,
   "id": "cc8426f2",
   "metadata": {},
   "outputs": [
    {
     "data": {
      "text/plain": [
       "'flynn hillari clinton big woman campu breitbart daniel j flynn'"
      ]
     },
     "execution_count": 11,
     "metadata": {},
     "output_type": "execute_result"
    }
   ],
   "source": [
    "# Data Pre-processing\n",
    "# Performing data preprocessing on column 'title'\n",
    "from nltk.stem.porter import PorterStemmer\n",
    "ps = PorterStemmer()\n",
    "def perform_preprocess(data):\n",
    "    '''Input: Data to be processed\n",
    "       Output: Preprocessed data\n",
    "    '''\n",
    "    corpus = []\n",
    "    for i in range(0,len(data)):\n",
    "        review = re.sub('[^a-zA-Z]',' ',data['merged'][i])\n",
    "        review = review.lower()\n",
    "        review = review.split()\n",
    "        review = [ps.stem(word) for word in review if word not in stopwords.words('english')]\n",
    "        review = ' '.join(review)\n",
    "        corpus.append(review)\n",
    "    return corpus\n",
    "\n",
    "train_corpus = perform_preprocess(messages)\n",
    "test_corpus  = perform_preprocess(messages_test)\n",
    "train_corpus[1]"
   ]
  },
  {
   "cell_type": "code",
   "execution_count": 12,
   "id": "0c7c37f9",
   "metadata": {},
   "outputs": [
    {
     "data": {
      "text/plain": [
       "'russian warship readi strike terrorist near aleppo'"
      ]
     },
     "execution_count": 12,
     "metadata": {},
     "output_type": "execute_result"
    }
   ],
   "source": [
    "test_corpus[1]"
   ]
  },
  {
   "cell_type": "code",
   "execution_count": 13,
   "id": "cf9b9992",
   "metadata": {},
   "outputs": [],
   "source": [
    "# Converting to one-hot repr.\n",
    "vocab_size = 5000\n",
    "one_hot_train = [one_hot(word,vocab_size) for word in train_corpus]\n",
    "one_hot_test  = [one_hot(word,vocab_size) for word in test_corpus]"
   ]
  },
  {
   "cell_type": "code",
   "execution_count": 14,
   "id": "de73f7d2",
   "metadata": {},
   "outputs": [
    {
     "data": {
      "text/plain": [
       "[2191, 3952, 2485, 3634, 4813, 106, 405]"
      ]
     },
     "execution_count": 14,
     "metadata": {},
     "output_type": "execute_result"
    }
   ],
   "source": [
    "one_hot_test[1]"
   ]
  },
  {
   "cell_type": "code",
   "execution_count": 15,
   "id": "941b709b",
   "metadata": {},
   "outputs": [
    {
     "name": "stdout",
     "output_type": "stream",
     "text": [
      "[[   0    0    0 ... 4687 1286  316]\n",
      " [   0    0    0 ... 2367 3594 2152]\n",
      " [   0    0    0 ...  672 4866 3157]\n",
      " ...\n",
      " [   0    0    0 ... 1878 4851 4768]\n",
      " [   0    0    0 ... 2094 2891  768]\n",
      " [   0    0    0 ...  525  621 2413]]\n"
     ]
    }
   ],
   "source": [
    "# Embedding Representation \n",
    "sent_length = 20\n",
    "embedd_docs_train = pad_sequences(one_hot_train,padding='pre',maxlen=sent_length)\n",
    "embedd_docs_test  = pad_sequences(one_hot_test,padding='pre',maxlen=sent_length)\n",
    "print(embedd_docs_train)"
   ]
  },
  {
   "cell_type": "code",
   "execution_count": 16,
   "id": "67a061f3",
   "metadata": {},
   "outputs": [
    {
     "name": "stdout",
     "output_type": "stream",
     "text": [
      "[[   0    0    0 ... 4352  621   40]\n",
      " [   0    0    0 ... 4813  106  405]\n",
      " [   0    0    0 ...  423 4107 2940]\n",
      " ...\n",
      " [   0    0    0 ... 4352 3598 1832]\n",
      " [   0    0    0 ... 2191 4791 1950]\n",
      " [   0    0    0 ... 4352 3114  842]]\n"
     ]
    }
   ],
   "source": [
    "print(embedd_docs_test)"
   ]
  },
  {
   "cell_type": "code",
   "execution_count": 17,
   "id": "afaf2245",
   "metadata": {},
   "outputs": [
    {
     "data": {
      "text/plain": [
       "((20800, 20), (20800,), (5200, 20))"
      ]
     },
     "execution_count": 17,
     "metadata": {},
     "output_type": "execute_result"
    }
   ],
   "source": [
    "# Converting Embedding repr. to array\n",
    "x_final = np.array(embedd_docs_train)\n",
    "y_final = np.array(y)\n",
    "x_test_final = np.array(embedd_docs_test)\n",
    "# Dimensions of prev. array repr.\n",
    "x_final.shape,y_final.shape,x_test_final.shape"
   ]
  },
  {
   "cell_type": "code",
   "execution_count": 18,
   "id": "9275ea54",
   "metadata": {},
   "outputs": [],
   "source": [
    "from sklearn.model_selection import train_test_split\n",
    "x_train, x_test, y_train, y_test = train_test_split(x_final, y_final, test_size=0.1, random_state=42, stratify = y_final)\n",
    "X_train, x_valid, Y_train, y_valid = train_test_split(x_train, y_train, test_size=0.1, random_state=42, stratify = y_train)\n",
    "x_test_final = x_test_final"
   ]
  },
  {
   "cell_type": "markdown",
   "id": "79fa26a6",
   "metadata": {},
   "source": [
    "# Creating Models"
   ]
  },
  {
   "cell_type": "markdown",
   "id": "2d3de74a",
   "metadata": {},
   "source": [
    "### 1.  Logistic Regresssion"
   ]
  },
  {
   "cell_type": "code",
   "execution_count": 19,
   "id": "94215ede",
   "metadata": {},
   "outputs": [
    {
     "name": "stdout",
     "output_type": "stream",
     "text": [
      "              precision    recall  f1-score   support\n",
      "\n",
      "           0       0.71      0.72      0.71      1039\n",
      "           1       0.71      0.71      0.71      1041\n",
      "\n",
      "    accuracy                           0.71      2080\n",
      "   macro avg       0.71      0.71      0.71      2080\n",
      "weighted avg       0.71      0.71      0.71      2080\n",
      "\n"
     ]
    }
   ],
   "source": [
    "model_1 = LogisticRegression(max_iter=900)\n",
    "model_1.fit(X_train,Y_train)\n",
    "pred_1 = model_1.predict(x_test)\n",
    "cr1    = classification_report(y_test,pred_1)\n",
    "print(cr1)"
   ]
  },
  {
   "cell_type": "markdown",
   "id": "cbe0036f",
   "metadata": {},
   "source": [
    "### 2. Naive Bayes"
   ]
  },
  {
   "cell_type": "code",
   "execution_count": 20,
   "id": "3f6ca359",
   "metadata": {},
   "outputs": [
    {
     "name": "stdout",
     "output_type": "stream",
     "text": [
      "              precision    recall  f1-score   support\n",
      "\n",
      "           0       0.73      0.65      0.69      1039\n",
      "           1       0.68      0.76      0.72      1041\n",
      "\n",
      "    accuracy                           0.71      2080\n",
      "   macro avg       0.71      0.71      0.70      2080\n",
      "weighted avg       0.71      0.71      0.70      2080\n",
      "\n"
     ]
    }
   ],
   "source": [
    "model_2 = MultinomialNB()\n",
    "model_2.fit(X_train,Y_train)\n",
    "pred_2 = model_2.predict(x_test)\n",
    "cr2    = classification_report(y_test,pred_2)\n",
    "print(cr2)"
   ]
  },
  {
   "cell_type": "code",
   "execution_count": 21,
   "id": "5b6d1ad7",
   "metadata": {},
   "outputs": [],
   "source": [
    "### 3.  Decision Trees"
   ]
  },
  {
   "cell_type": "code",
   "execution_count": 22,
   "id": "f98949e6",
   "metadata": {},
   "outputs": [
    {
     "name": "stdout",
     "output_type": "stream",
     "text": [
      "              precision    recall  f1-score   support\n",
      "\n",
      "           0       0.91      0.93      0.92      1039\n",
      "           1       0.93      0.91      0.92      1041\n",
      "\n",
      "    accuracy                           0.92      2080\n",
      "   macro avg       0.92      0.92      0.92      2080\n",
      "weighted avg       0.92      0.92      0.92      2080\n",
      "\n"
     ]
    }
   ],
   "source": [
    "model_3 = DecisionTreeClassifier()\n",
    "model_3.fit(X_train,Y_train)\n",
    "pred_3 = model_3.predict(x_test)\n",
    "cr3    = classification_report(y_test,pred_3)\n",
    "print(cr3)"
   ]
  },
  {
   "cell_type": "code",
   "execution_count": 23,
   "id": "2d4b9328",
   "metadata": {},
   "outputs": [],
   "source": [
    "### 4. Random Forest"
   ]
  },
  {
   "cell_type": "code",
   "execution_count": 24,
   "id": "78359ca3",
   "metadata": {},
   "outputs": [
    {
     "name": "stdout",
     "output_type": "stream",
     "text": [
      "              precision    recall  f1-score   support\n",
      "\n",
      "           0       0.97      0.89      0.93      1039\n",
      "           1       0.90      0.98      0.94      1041\n",
      "\n",
      "    accuracy                           0.93      2080\n",
      "   macro avg       0.94      0.93      0.93      2080\n",
      "weighted avg       0.94      0.93      0.93      2080\n",
      "\n"
     ]
    }
   ],
   "source": [
    "model_4 = RandomForestClassifier()\n",
    "model_4.fit(X_train,Y_train)\n",
    "pred_4 = model_4.predict(x_test)\n",
    "cr4    = classification_report(y_test,pred_4)\n",
    "print(cr4)"
   ]
  },
  {
   "cell_type": "code",
   "execution_count": 25,
   "id": "5b4200bc",
   "metadata": {},
   "outputs": [],
   "source": [
    "### 5. XGBOOST"
   ]
  },
  {
   "cell_type": "code",
   "execution_count": 26,
   "id": "52daa0f1",
   "metadata": {},
   "outputs": [
    {
     "name": "stdout",
     "output_type": "stream",
     "text": [
      "[18:33:56] WARNING: /tmp/build/80754af9/xgboost-split_1619724447847/work/src/learner.cc:1061: Starting in XGBoost 1.3.0, the default evaluation metric used with the objective 'binary:logistic' was changed from 'error' to 'logloss'. Explicitly set eval_metric if you'd like to restore the old behavior.\n"
     ]
    },
    {
     "name": "stderr",
     "output_type": "stream",
     "text": [
      "/home/dark/miniconda3/envs/ml/lib/python3.9/site-packages/xgboost/sklearn.py:888: UserWarning: The use of label encoder in XGBClassifier is deprecated and will be removed in a future release. To remove this warning, do the following: 1) Pass option use_label_encoder=False when constructing XGBClassifier object; and 2) Encode your labels (y) as integers starting with 0, i.e. 0, 1, 2, ..., [num_class - 1].\n",
      "  warnings.warn(label_encoder_deprecation_msg, UserWarning)\n"
     ]
    },
    {
     "name": "stdout",
     "output_type": "stream",
     "text": [
      "              precision    recall  f1-score   support\n",
      "\n",
      "           0       0.99      0.98      0.98      1039\n",
      "           1       0.98      0.99      0.98      1041\n",
      "\n",
      "    accuracy                           0.98      2080\n",
      "   macro avg       0.98      0.98      0.98      2080\n",
      "weighted avg       0.98      0.98      0.98      2080\n",
      "\n"
     ]
    }
   ],
   "source": [
    "import warnings\n",
    "warnings.simplefilter(action='ignore', category=FutureWarning)\n",
    "\n",
    "model_5 = XGBClassifier()\n",
    "model_5.fit(X_train,Y_train)\n",
    "pred_5 = model_5.predict(x_test)\n",
    "cr5    = classification_report(y_test,pred_5)\n",
    "print(cr5)"
   ]
  },
  {
   "cell_type": "code",
   "execution_count": 27,
   "id": "cc66bc34",
   "metadata": {},
   "outputs": [],
   "source": [
    "### 6.  Catboost"
   ]
  },
  {
   "cell_type": "code",
   "execution_count": 28,
   "id": "350997a6",
   "metadata": {},
   "outputs": [
    {
     "name": "stdout",
     "output_type": "stream",
     "text": [
      "Learning rate set to 0.150531\n",
      "0:\tlearn: 0.5559482\ttotal: 65.3ms\tremaining: 13s\n",
      "1:\tlearn: 0.4853795\ttotal: 87.6ms\tremaining: 8.68s\n",
      "2:\tlearn: 0.4108214\ttotal: 104ms\tremaining: 6.8s\n",
      "3:\tlearn: 0.3750198\ttotal: 120ms\tremaining: 5.87s\n",
      "4:\tlearn: 0.3452680\ttotal: 140ms\tremaining: 5.45s\n",
      "5:\tlearn: 0.3236156\ttotal: 158ms\tremaining: 5.11s\n",
      "6:\tlearn: 0.3114605\ttotal: 176ms\tremaining: 4.85s\n",
      "7:\tlearn: 0.3009136\ttotal: 191ms\tremaining: 4.58s\n",
      "8:\tlearn: 0.2930274\ttotal: 206ms\tremaining: 4.38s\n",
      "9:\tlearn: 0.2838117\ttotal: 224ms\tremaining: 4.26s\n",
      "10:\tlearn: 0.2775243\ttotal: 242ms\tremaining: 4.16s\n",
      "11:\tlearn: 0.2711070\ttotal: 258ms\tremaining: 4.04s\n",
      "12:\tlearn: 0.2644242\ttotal: 276ms\tremaining: 3.97s\n",
      "13:\tlearn: 0.2605761\ttotal: 295ms\tremaining: 3.92s\n",
      "14:\tlearn: 0.2554890\ttotal: 310ms\tremaining: 3.83s\n",
      "15:\tlearn: 0.2519081\ttotal: 327ms\tremaining: 3.76s\n",
      "16:\tlearn: 0.2433714\ttotal: 345ms\tremaining: 3.72s\n",
      "17:\tlearn: 0.2399497\ttotal: 360ms\tremaining: 3.64s\n",
      "18:\tlearn: 0.2344950\ttotal: 375ms\tremaining: 3.57s\n",
      "19:\tlearn: 0.2309340\ttotal: 388ms\tremaining: 3.49s\n",
      "20:\tlearn: 0.2284692\ttotal: 399ms\tremaining: 3.4s\n",
      "21:\tlearn: 0.2245889\ttotal: 412ms\tremaining: 3.33s\n",
      "22:\tlearn: 0.2219720\ttotal: 425ms\tremaining: 3.27s\n",
      "23:\tlearn: 0.2191481\ttotal: 441ms\tremaining: 3.23s\n",
      "24:\tlearn: 0.2147463\ttotal: 452ms\tremaining: 3.17s\n",
      "25:\tlearn: 0.2115012\ttotal: 464ms\tremaining: 3.1s\n",
      "26:\tlearn: 0.2098610\ttotal: 475ms\tremaining: 3.04s\n",
      "27:\tlearn: 0.2068295\ttotal: 490ms\tremaining: 3.01s\n",
      "28:\tlearn: 0.2039041\ttotal: 504ms\tremaining: 2.97s\n",
      "29:\tlearn: 0.2016670\ttotal: 516ms\tremaining: 2.92s\n",
      "30:\tlearn: 0.1994233\ttotal: 526ms\tremaining: 2.87s\n",
      "31:\tlearn: 0.1974132\ttotal: 537ms\tremaining: 2.82s\n",
      "32:\tlearn: 0.1954281\ttotal: 549ms\tremaining: 2.78s\n",
      "33:\tlearn: 0.1935030\ttotal: 560ms\tremaining: 2.73s\n",
      "34:\tlearn: 0.1919830\ttotal: 570ms\tremaining: 2.69s\n",
      "35:\tlearn: 0.1911477\ttotal: 582ms\tremaining: 2.65s\n",
      "36:\tlearn: 0.1889762\ttotal: 593ms\tremaining: 2.61s\n",
      "37:\tlearn: 0.1877575\ttotal: 604ms\tremaining: 2.57s\n",
      "38:\tlearn: 0.1860194\ttotal: 617ms\tremaining: 2.54s\n",
      "39:\tlearn: 0.1841369\ttotal: 631ms\tremaining: 2.52s\n",
      "40:\tlearn: 0.1826844\ttotal: 646ms\tremaining: 2.5s\n",
      "41:\tlearn: 0.1789728\ttotal: 658ms\tremaining: 2.47s\n",
      "42:\tlearn: 0.1767075\ttotal: 676ms\tremaining: 2.47s\n",
      "43:\tlearn: 0.1742151\ttotal: 696ms\tremaining: 2.47s\n",
      "44:\tlearn: 0.1730280\ttotal: 714ms\tremaining: 2.46s\n",
      "45:\tlearn: 0.1712780\ttotal: 731ms\tremaining: 2.45s\n",
      "46:\tlearn: 0.1702400\ttotal: 752ms\tremaining: 2.45s\n",
      "47:\tlearn: 0.1689952\ttotal: 769ms\tremaining: 2.44s\n",
      "48:\tlearn: 0.1679126\ttotal: 785ms\tremaining: 2.42s\n",
      "49:\tlearn: 0.1664696\ttotal: 802ms\tremaining: 2.4s\n",
      "50:\tlearn: 0.1653215\ttotal: 819ms\tremaining: 2.39s\n",
      "51:\tlearn: 0.1646382\ttotal: 836ms\tremaining: 2.38s\n",
      "52:\tlearn: 0.1626896\ttotal: 856ms\tremaining: 2.38s\n",
      "53:\tlearn: 0.1618842\ttotal: 875ms\tremaining: 2.36s\n",
      "54:\tlearn: 0.1604510\ttotal: 896ms\tremaining: 2.36s\n",
      "55:\tlearn: 0.1596416\ttotal: 911ms\tremaining: 2.34s\n",
      "56:\tlearn: 0.1582329\ttotal: 933ms\tremaining: 2.34s\n",
      "57:\tlearn: 0.1563212\ttotal: 947ms\tremaining: 2.32s\n",
      "58:\tlearn: 0.1540586\ttotal: 959ms\tremaining: 2.29s\n",
      "59:\tlearn: 0.1531338\ttotal: 974ms\tremaining: 2.27s\n",
      "60:\tlearn: 0.1519425\ttotal: 986ms\tremaining: 2.25s\n",
      "61:\tlearn: 0.1502372\ttotal: 996ms\tremaining: 2.22s\n",
      "62:\tlearn: 0.1493813\ttotal: 1.01s\tremaining: 2.19s\n",
      "63:\tlearn: 0.1485249\ttotal: 1.02s\tremaining: 2.17s\n",
      "64:\tlearn: 0.1464205\ttotal: 1.04s\tremaining: 2.15s\n",
      "65:\tlearn: 0.1449196\ttotal: 1.05s\tremaining: 2.13s\n",
      "66:\tlearn: 0.1437463\ttotal: 1.06s\tremaining: 2.11s\n",
      "67:\tlearn: 0.1426524\ttotal: 1.07s\tremaining: 2.08s\n",
      "68:\tlearn: 0.1409561\ttotal: 1.09s\tremaining: 2.07s\n",
      "69:\tlearn: 0.1389739\ttotal: 1.1s\tremaining: 2.05s\n",
      "70:\tlearn: 0.1381711\ttotal: 1.12s\tremaining: 2.03s\n",
      "71:\tlearn: 0.1360682\ttotal: 1.13s\tremaining: 2s\n",
      "72:\tlearn: 0.1343378\ttotal: 1.14s\tremaining: 1.98s\n",
      "73:\tlearn: 0.1334053\ttotal: 1.15s\tremaining: 1.96s\n",
      "74:\tlearn: 0.1324369\ttotal: 1.16s\tremaining: 1.93s\n",
      "75:\tlearn: 0.1306695\ttotal: 1.17s\tremaining: 1.91s\n",
      "76:\tlearn: 0.1286070\ttotal: 1.18s\tremaining: 1.89s\n",
      "77:\tlearn: 0.1277318\ttotal: 1.2s\tremaining: 1.87s\n",
      "78:\tlearn: 0.1270030\ttotal: 1.21s\tremaining: 1.85s\n",
      "79:\tlearn: 0.1254091\ttotal: 1.22s\tremaining: 1.83s\n",
      "80:\tlearn: 0.1244766\ttotal: 1.24s\tremaining: 1.81s\n",
      "81:\tlearn: 0.1230530\ttotal: 1.25s\tremaining: 1.8s\n",
      "82:\tlearn: 0.1218025\ttotal: 1.26s\tremaining: 1.78s\n",
      "83:\tlearn: 0.1207366\ttotal: 1.28s\tremaining: 1.77s\n",
      "84:\tlearn: 0.1193213\ttotal: 1.3s\tremaining: 1.76s\n",
      "85:\tlearn: 0.1182895\ttotal: 1.31s\tremaining: 1.74s\n",
      "86:\tlearn: 0.1176401\ttotal: 1.33s\tremaining: 1.73s\n",
      "87:\tlearn: 0.1163153\ttotal: 1.36s\tremaining: 1.73s\n",
      "88:\tlearn: 0.1148454\ttotal: 1.38s\tremaining: 1.72s\n",
      "89:\tlearn: 0.1138319\ttotal: 1.39s\tremaining: 1.7s\n",
      "90:\tlearn: 0.1127030\ttotal: 1.41s\tremaining: 1.69s\n",
      "91:\tlearn: 0.1121275\ttotal: 1.43s\tremaining: 1.67s\n",
      "92:\tlearn: 0.1115635\ttotal: 1.44s\tremaining: 1.66s\n",
      "93:\tlearn: 0.1105141\ttotal: 1.46s\tremaining: 1.65s\n",
      "94:\tlearn: 0.1099424\ttotal: 1.48s\tremaining: 1.64s\n",
      "95:\tlearn: 0.1087891\ttotal: 1.5s\tremaining: 1.62s\n",
      "96:\tlearn: 0.1080662\ttotal: 1.51s\tremaining: 1.61s\n",
      "97:\tlearn: 0.1072310\ttotal: 1.54s\tremaining: 1.6s\n",
      "98:\tlearn: 0.1061400\ttotal: 1.55s\tremaining: 1.58s\n",
      "99:\tlearn: 0.1051916\ttotal: 1.57s\tremaining: 1.57s\n",
      "100:\tlearn: 0.1039184\ttotal: 1.58s\tremaining: 1.55s\n",
      "101:\tlearn: 0.1034786\ttotal: 1.59s\tremaining: 1.53s\n",
      "102:\tlearn: 0.1030206\ttotal: 1.6s\tremaining: 1.51s\n",
      "103:\tlearn: 0.1023712\ttotal: 1.61s\tremaining: 1.49s\n",
      "104:\tlearn: 0.1018221\ttotal: 1.63s\tremaining: 1.47s\n",
      "105:\tlearn: 0.1009567\ttotal: 1.64s\tremaining: 1.45s\n",
      "106:\tlearn: 0.1006147\ttotal: 1.65s\tremaining: 1.44s\n",
      "107:\tlearn: 0.1003218\ttotal: 1.67s\tremaining: 1.42s\n",
      "108:\tlearn: 0.0996969\ttotal: 1.68s\tremaining: 1.4s\n",
      "109:\tlearn: 0.0994051\ttotal: 1.69s\tremaining: 1.38s\n",
      "110:\tlearn: 0.0986709\ttotal: 1.7s\tremaining: 1.36s\n",
      "111:\tlearn: 0.0975105\ttotal: 1.71s\tremaining: 1.34s\n",
      "112:\tlearn: 0.0973217\ttotal: 1.72s\tremaining: 1.33s\n",
      "113:\tlearn: 0.0965962\ttotal: 1.74s\tremaining: 1.31s\n",
      "114:\tlearn: 0.0958562\ttotal: 1.75s\tremaining: 1.3s\n",
      "115:\tlearn: 0.0953312\ttotal: 1.77s\tremaining: 1.28s\n",
      "116:\tlearn: 0.0947178\ttotal: 1.78s\tremaining: 1.26s\n",
      "117:\tlearn: 0.0942518\ttotal: 1.79s\tremaining: 1.25s\n",
      "118:\tlearn: 0.0935556\ttotal: 1.8s\tremaining: 1.23s\n",
      "119:\tlearn: 0.0923101\ttotal: 1.81s\tremaining: 1.21s\n",
      "120:\tlearn: 0.0913779\ttotal: 1.82s\tremaining: 1.19s\n",
      "121:\tlearn: 0.0912762\ttotal: 1.84s\tremaining: 1.18s\n",
      "122:\tlearn: 0.0904347\ttotal: 1.85s\tremaining: 1.16s\n",
      "123:\tlearn: 0.0902438\ttotal: 1.86s\tremaining: 1.14s\n",
      "124:\tlearn: 0.0893677\ttotal: 1.88s\tremaining: 1.13s\n",
      "125:\tlearn: 0.0892126\ttotal: 1.89s\tremaining: 1.11s\n",
      "126:\tlearn: 0.0889839\ttotal: 1.91s\tremaining: 1.09s\n",
      "127:\tlearn: 0.0888702\ttotal: 1.92s\tremaining: 1.08s\n",
      "128:\tlearn: 0.0887645\ttotal: 1.94s\tremaining: 1.06s\n",
      "129:\tlearn: 0.0886526\ttotal: 1.95s\tremaining: 1.05s\n",
      "130:\tlearn: 0.0880207\ttotal: 1.97s\tremaining: 1.04s\n",
      "131:\tlearn: 0.0874658\ttotal: 1.99s\tremaining: 1.02s\n",
      "132:\tlearn: 0.0871048\ttotal: 2.01s\tremaining: 1.01s\n",
      "133:\tlearn: 0.0864120\ttotal: 2.03s\tremaining: 998ms\n",
      "134:\tlearn: 0.0855459\ttotal: 2.04s\tremaining: 984ms\n",
      "135:\tlearn: 0.0852819\ttotal: 2.06s\tremaining: 970ms\n",
      "136:\tlearn: 0.0845074\ttotal: 2.08s\tremaining: 958ms\n",
      "137:\tlearn: 0.0841397\ttotal: 2.1s\tremaining: 945ms\n",
      "138:\tlearn: 0.0834291\ttotal: 2.12s\tremaining: 929ms\n",
      "139:\tlearn: 0.0821441\ttotal: 2.13s\tremaining: 914ms\n",
      "140:\tlearn: 0.0814693\ttotal: 2.15s\tremaining: 899ms\n",
      "141:\tlearn: 0.0807998\ttotal: 2.17s\tremaining: 884ms\n",
      "142:\tlearn: 0.0802337\ttotal: 2.18s\tremaining: 868ms\n",
      "143:\tlearn: 0.0797658\ttotal: 2.19s\tremaining: 851ms\n",
      "144:\tlearn: 0.0795499\ttotal: 2.2s\tremaining: 835ms\n",
      "145:\tlearn: 0.0791940\ttotal: 2.21s\tremaining: 818ms\n",
      "146:\tlearn: 0.0789124\ttotal: 2.22s\tremaining: 801ms\n",
      "147:\tlearn: 0.0784388\ttotal: 2.23s\tremaining: 785ms\n",
      "148:\tlearn: 0.0777833\ttotal: 2.25s\tremaining: 770ms\n",
      "149:\tlearn: 0.0776719\ttotal: 2.26s\tremaining: 753ms\n",
      "150:\tlearn: 0.0775001\ttotal: 2.27s\tremaining: 737ms\n",
      "151:\tlearn: 0.0771064\ttotal: 2.28s\tremaining: 721ms\n",
      "152:\tlearn: 0.0768285\ttotal: 2.29s\tremaining: 704ms\n",
      "153:\tlearn: 0.0764527\ttotal: 2.3s\tremaining: 688ms\n",
      "154:\tlearn: 0.0758247\ttotal: 2.31s\tremaining: 672ms\n",
      "155:\tlearn: 0.0750854\ttotal: 2.32s\tremaining: 656ms\n",
      "156:\tlearn: 0.0747677\ttotal: 2.33s\tremaining: 640ms\n",
      "157:\tlearn: 0.0743973\ttotal: 2.35s\tremaining: 624ms\n",
      "158:\tlearn: 0.0738753\ttotal: 2.36s\tremaining: 608ms\n",
      "159:\tlearn: 0.0735820\ttotal: 2.37s\tremaining: 593ms\n",
      "160:\tlearn: 0.0730087\ttotal: 2.38s\tremaining: 578ms\n",
      "161:\tlearn: 0.0729492\ttotal: 2.39s\tremaining: 562ms\n",
      "162:\tlearn: 0.0726133\ttotal: 2.4s\tremaining: 546ms\n",
      "163:\tlearn: 0.0716892\ttotal: 2.42s\tremaining: 530ms\n",
      "164:\tlearn: 0.0714917\ttotal: 2.43s\tremaining: 515ms\n"
     ]
    },
    {
     "name": "stdout",
     "output_type": "stream",
     "text": [
      "165:\tlearn: 0.0712161\ttotal: 2.44s\tremaining: 500ms\n",
      "166:\tlearn: 0.0710403\ttotal: 2.45s\tremaining: 485ms\n",
      "167:\tlearn: 0.0708152\ttotal: 2.46s\tremaining: 470ms\n",
      "168:\tlearn: 0.0707109\ttotal: 2.48s\tremaining: 454ms\n",
      "169:\tlearn: 0.0704926\ttotal: 2.49s\tremaining: 439ms\n",
      "170:\tlearn: 0.0698135\ttotal: 2.5s\tremaining: 424ms\n",
      "171:\tlearn: 0.0696624\ttotal: 2.51s\tremaining: 409ms\n",
      "172:\tlearn: 0.0692215\ttotal: 2.52s\tremaining: 393ms\n",
      "173:\tlearn: 0.0691334\ttotal: 2.53s\tremaining: 378ms\n",
      "174:\tlearn: 0.0688046\ttotal: 2.54s\tremaining: 363ms\n",
      "175:\tlearn: 0.0686114\ttotal: 2.55s\tremaining: 348ms\n",
      "176:\tlearn: 0.0685079\ttotal: 2.56s\tremaining: 333ms\n",
      "177:\tlearn: 0.0683479\ttotal: 2.58s\tremaining: 319ms\n",
      "178:\tlearn: 0.0678201\ttotal: 2.59s\tremaining: 304ms\n",
      "179:\tlearn: 0.0672779\ttotal: 2.6s\tremaining: 289ms\n",
      "180:\tlearn: 0.0665560\ttotal: 2.61s\tremaining: 274ms\n",
      "181:\tlearn: 0.0660302\ttotal: 2.62s\tremaining: 259ms\n",
      "182:\tlearn: 0.0655134\ttotal: 2.64s\tremaining: 245ms\n",
      "183:\tlearn: 0.0650483\ttotal: 2.65s\tremaining: 231ms\n",
      "184:\tlearn: 0.0643497\ttotal: 2.67s\tremaining: 216ms\n",
      "185:\tlearn: 0.0637590\ttotal: 2.68s\tremaining: 202ms\n",
      "186:\tlearn: 0.0635312\ttotal: 2.69s\tremaining: 187ms\n",
      "187:\tlearn: 0.0632249\ttotal: 2.71s\tremaining: 173ms\n",
      "188:\tlearn: 0.0624232\ttotal: 2.73s\tremaining: 159ms\n",
      "189:\tlearn: 0.0619795\ttotal: 2.75s\tremaining: 145ms\n",
      "190:\tlearn: 0.0617381\ttotal: 2.77s\tremaining: 131ms\n",
      "191:\tlearn: 0.0612453\ttotal: 2.79s\tremaining: 116ms\n",
      "192:\tlearn: 0.0611387\ttotal: 2.81s\tremaining: 102ms\n",
      "193:\tlearn: 0.0609518\ttotal: 2.83s\tremaining: 87.5ms\n",
      "194:\tlearn: 0.0604531\ttotal: 2.85s\tremaining: 73.1ms\n",
      "195:\tlearn: 0.0602235\ttotal: 2.87s\tremaining: 58.6ms\n",
      "196:\tlearn: 0.0598860\ttotal: 2.89s\tremaining: 44ms\n",
      "197:\tlearn: 0.0597523\ttotal: 2.9s\tremaining: 29.3ms\n",
      "198:\tlearn: 0.0590622\ttotal: 2.92s\tremaining: 14.7ms\n",
      "199:\tlearn: 0.0589581\ttotal: 2.94s\tremaining: 0us\n",
      "              precision    recall  f1-score   support\n",
      "\n",
      "           0       0.99      0.98      0.98      1039\n",
      "           1       0.98      0.99      0.98      1041\n",
      "\n",
      "    accuracy                           0.98      2080\n",
      "   macro avg       0.98      0.98      0.98      2080\n",
      "weighted avg       0.98      0.98      0.98      2080\n",
      "\n"
     ]
    }
   ],
   "source": [
    "model_6 = CatBoostClassifier(iterations=200)\n",
    "model_6.fit(X_train,Y_train)\n",
    "pred_6 = model_5.predict(x_test)\n",
    "cr6    = classification_report(y_test,pred_5)\n",
    "print(cr6)"
   ]
  },
  {
   "cell_type": "code",
   "execution_count": 29,
   "id": "82ed8050",
   "metadata": {},
   "outputs": [],
   "source": [
    "### 7. LTSM"
   ]
  },
  {
   "cell_type": "code",
   "execution_count": 30,
   "id": "20b8d649",
   "metadata": {},
   "outputs": [
    {
     "name": "stdout",
     "output_type": "stream",
     "text": [
      "Model: \"sequential\"\n",
      "_________________________________________________________________\n",
      "Layer (type)                 Output Shape              Param #   \n",
      "=================================================================\n",
      "embedding (Embedding)        (None, 20, 40)            200000    \n",
      "_________________________________________________________________\n",
      "dropout (Dropout)            (None, 20, 40)            0         \n",
      "_________________________________________________________________\n",
      "lstm (LSTM)                  (None, 100)               56400     \n",
      "_________________________________________________________________\n",
      "dropout_1 (Dropout)          (None, 100)               0         \n",
      "_________________________________________________________________\n",
      "dense (Dense)                (None, 1)                 101       \n",
      "=================================================================\n",
      "Total params: 256,501\n",
      "Trainable params: 256,501\n",
      "Non-trainable params: 0\n",
      "_________________________________________________________________\n",
      "None\n"
     ]
    }
   ],
   "source": [
    "# Creating the LSTM Model for prediction\n",
    "embedding_feature_vector = 40\n",
    "model = Sequential()\n",
    "model.add(Embedding(vocab_size,embedding_feature_vector,input_length=sent_length))\n",
    "model.add(Dropout(0.3))\n",
    "model.add(LSTM(100))\n",
    "model.add(Dropout(0.3))\n",
    "model.add(Dense(1,activation='sigmoid'))\n",
    "model.compile(loss='binary_crossentropy',optimizer='adam',metrics=['accuracy'])\n",
    "print(model.summary())"
   ]
  },
  {
   "cell_type": "code",
   "execution_count": 31,
   "id": "6b245d35",
   "metadata": {},
   "outputs": [
    {
     "name": "stdout",
     "output_type": "stream",
     "text": [
      "Epoch 1/10\n",
      "264/264 [==============================] - 25s 81ms/step - loss: 0.3879 - accuracy: 0.7863 - val_loss: 0.0422 - val_accuracy: 0.9909\n",
      "Epoch 2/10\n",
      "264/264 [==============================] - 20s 77ms/step - loss: 0.0269 - accuracy: 0.9923 - val_loss: 0.0226 - val_accuracy: 0.9941\n",
      "Epoch 3/10\n",
      "264/264 [==============================] - 20s 75ms/step - loss: 0.0165 - accuracy: 0.9968 - val_loss: 0.0203 - val_accuracy: 0.9931\n",
      "Epoch 4/10\n",
      "264/264 [==============================] - 20s 77ms/step - loss: 0.0051 - accuracy: 0.9990 - val_loss: 0.0347 - val_accuracy: 0.9920\n",
      "Epoch 5/10\n",
      "264/264 [==============================] - 27s 103ms/step - loss: 0.0042 - accuracy: 0.9987 - val_loss: 0.0202 - val_accuracy: 0.9909\n",
      "Epoch 6/10\n",
      "264/264 [==============================] - 29s 111ms/step - loss: 0.0039 - accuracy: 0.9986 - val_loss: 0.0256 - val_accuracy: 0.9941\n",
      "Epoch 7/10\n",
      "264/264 [==============================] - 27s 102ms/step - loss: 0.0016 - accuracy: 0.9998 - val_loss: 0.0249 - val_accuracy: 0.9936\n",
      "Epoch 8/10\n",
      "264/264 [==============================] - 31s 118ms/step - loss: 4.9059e-04 - accuracy: 0.9999 - val_loss: 0.0205 - val_accuracy: 0.9931\n",
      "Epoch 9/10\n",
      "264/264 [==============================] - 28s 106ms/step - loss: 0.0010 - accuracy: 0.9998 - val_loss: 0.0232 - val_accuracy: 0.9936\n",
      "Epoch 10/10\n",
      "264/264 [==============================] - 25s 94ms/step - loss: 3.9166e-04 - accuracy: 1.0000 - val_loss: 0.0237 - val_accuracy: 0.9925\n"
     ]
    },
    {
     "data": {
      "text/plain": [
       "<tensorflow.python.keras.callbacks.History at 0x7f9fc7c6b340>"
      ]
     },
     "execution_count": 31,
     "metadata": {},
     "output_type": "execute_result"
    }
   ],
   "source": [
    "# Training the model\n",
    "model.fit(X_train,Y_train,validation_data=(x_valid,y_valid),epochs=10,batch_size=64)"
   ]
  },
  {
   "cell_type": "code",
   "execution_count": 32,
   "id": "dc375f2b",
   "metadata": {},
   "outputs": [
    {
     "name": "stderr",
     "output_type": "stream",
     "text": [
      "/home/dark/miniconda3/envs/ml/lib/python3.9/site-packages/tensorflow/python/keras/engine/sequential.py:450: UserWarning: `model.predict_classes()` is deprecated and will be removed after 2021-01-01. Please use instead:* `np.argmax(model.predict(x), axis=-1)`,   if your model does multi-class classification   (e.g. if it uses a `softmax` last-layer activation).* `(model.predict(x) > 0.5).astype(\"int32\")`,   if your model does binary classification   (e.g. if it uses a `sigmoid` last-layer activation).\n",
      "  warnings.warn('`model.predict_classes()` is deprecated and '\n"
     ]
    },
    {
     "name": "stdout",
     "output_type": "stream",
     "text": [
      "              precision    recall  f1-score   support\n",
      "\n",
      "           0       0.99      0.99      0.99      1039\n",
      "           1       0.99      0.99      0.99      1041\n",
      "\n",
      "    accuracy                           0.99      2080\n",
      "   macro avg       0.99      0.99      0.99      2080\n",
      "weighted avg       0.99      0.99      0.99      2080\n",
      "\n"
     ]
    }
   ],
   "source": [
    "predictions = model.predict_classes(x_test)\n",
    "cr = classification_report(y_test,predictions)\n",
    "print(cr)"
   ]
  },
  {
   "cell_type": "markdown",
   "id": "76ab4a94",
   "metadata": {},
   "source": [
    "### Evaluation of Models"
   ]
  },
  {
   "cell_type": "code",
   "execution_count": 34,
   "id": "343922f1",
   "metadata": {},
   "outputs": [
    {
     "data": {
      "text/html": [
       "<div>\n",
       "<style scoped>\n",
       "    .dataframe tbody tr th:only-of-type {\n",
       "        vertical-align: middle;\n",
       "    }\n",
       "\n",
       "    .dataframe tbody tr th {\n",
       "        vertical-align: top;\n",
       "    }\n",
       "\n",
       "    .dataframe thead th {\n",
       "        text-align: right;\n",
       "    }\n",
       "</style>\n",
       "<table border=\"1\" class=\"dataframe\">\n",
       "  <thead>\n",
       "    <tr style=\"text-align: right;\">\n",
       "      <th></th>\n",
       "      <th>Model</th>\n",
       "      <th>Accuracy</th>\n",
       "    </tr>\n",
       "  </thead>\n",
       "  <tbody>\n",
       "    <tr>\n",
       "      <th>0</th>\n",
       "      <td>Logistic Regression</td>\n",
       "      <td>0.712500</td>\n",
       "    </tr>\n",
       "    <tr>\n",
       "      <th>1</th>\n",
       "      <td>Naive Bayes</td>\n",
       "      <td>0.705769</td>\n",
       "    </tr>\n",
       "    <tr>\n",
       "      <th>2</th>\n",
       "      <td>Decision Tree</td>\n",
       "      <td>0.921154</td>\n",
       "    </tr>\n",
       "    <tr>\n",
       "      <th>3</th>\n",
       "      <td>Random Forest</td>\n",
       "      <td>0.933654</td>\n",
       "    </tr>\n",
       "    <tr>\n",
       "      <th>4</th>\n",
       "      <td>XGBOOST</td>\n",
       "      <td>0.984135</td>\n",
       "    </tr>\n",
       "    <tr>\n",
       "      <th>5</th>\n",
       "      <td>CatBoost</td>\n",
       "      <td>0.984135</td>\n",
       "    </tr>\n",
       "    <tr>\n",
       "      <th>6</th>\n",
       "      <td>LSTM</td>\n",
       "      <td>0.988942</td>\n",
       "    </tr>\n",
       "  </tbody>\n",
       "</table>\n",
       "</div>"
      ],
      "text/plain": [
       "                 Model  Accuracy\n",
       "0  Logistic Regression  0.712500\n",
       "1          Naive Bayes  0.705769\n",
       "2        Decision Tree  0.921154\n",
       "3        Random Forest  0.933654\n",
       "4              XGBOOST  0.984135\n",
       "5             CatBoost  0.984135\n",
       "6                 LSTM  0.988942"
      ]
     },
     "execution_count": 34,
     "metadata": {},
     "output_type": "execute_result"
    }
   ],
   "source": [
    "score_1 = accuracy_score(y_test,pred_1)\n",
    "score_2 = accuracy_score(y_test,pred_2)\n",
    "score_3 = accuracy_score(y_test,pred_3)\n",
    "score_4 = accuracy_score(y_test,pred_4)\n",
    "score_5 = accuracy_score(y_test,pred_5)\n",
    "score_6 = accuracy_score(y_test,pred_6)\n",
    "score_7 = accuracy_score(y_test,predictions)\n",
    "results = pd.DataFrame([[\"Logistic Regression\",score_1],[\"Naive Bayes\",score_2],[\"Decision Tree\",score_3],\n",
    "                       [\"Random Forest\",score_4],[\"XGBOOST\",score_5],[\"CatBoost\",score_6],[\"LSTM\",score_7]],columns=[\"Model\",\"Accuracy\"])\n",
    "results"
   ]
  },
  {
   "cell_type": "markdown",
   "id": "46b22dbf",
   "metadata": {},
   "source": [
    "From the above results, it appears that LSTM Model gives the highest accuracy amongst various models. Therefore, it is selected as the final model for making predictions on final testing data."
   ]
  },
  {
   "cell_type": "markdown",
   "id": "bd01c61c",
   "metadata": {},
   "source": [
    "### Predictions on Testing Data"
   ]
  },
  {
   "cell_type": "code",
   "execution_count": 35,
   "id": "a09e3b7e",
   "metadata": {},
   "outputs": [
    {
     "name": "stderr",
     "output_type": "stream",
     "text": [
      "/home/dark/miniconda3/envs/ml/lib/python3.9/site-packages/tensorflow/python/keras/engine/sequential.py:450: UserWarning: `model.predict_classes()` is deprecated and will be removed after 2021-01-01. Please use instead:* `np.argmax(model.predict(x), axis=-1)`,   if your model does multi-class classification   (e.g. if it uses a `softmax` last-layer activation).* `(model.predict(x) > 0.5).astype(\"int32\")`,   if your model does binary classification   (e.g. if it uses a `sigmoid` last-layer activation).\n",
      "  warnings.warn('`model.predict_classes()` is deprecated and '\n"
     ]
    }
   ],
   "source": [
    "# Making Predictions on test data\n",
    "predictions_test = pd.DataFrame(model.predict_classes(x_test_final))\n",
    "test_id = pd.DataFrame(test[\"id\"])\n",
    "submission = pd.concat([test_id,predictions_test],axis=1)\n",
    "submission.columns = [\"id\",\"label\"]\n",
    "submission.to_csv(\"Submission.csv\",index=False)"
   ]
  },
  {
   "cell_type": "code",
   "execution_count": 36,
   "id": "368dd5e7",
   "metadata": {},
   "outputs": [
    {
     "data": {
      "text/html": [
       "<div>\n",
       "<style scoped>\n",
       "    .dataframe tbody tr th:only-of-type {\n",
       "        vertical-align: middle;\n",
       "    }\n",
       "\n",
       "    .dataframe tbody tr th {\n",
       "        vertical-align: top;\n",
       "    }\n",
       "\n",
       "    .dataframe thead th {\n",
       "        text-align: right;\n",
       "    }\n",
       "</style>\n",
       "<table border=\"1\" class=\"dataframe\">\n",
       "  <thead>\n",
       "    <tr style=\"text-align: right;\">\n",
       "      <th></th>\n",
       "      <th>id</th>\n",
       "      <th>label</th>\n",
       "    </tr>\n",
       "  </thead>\n",
       "  <tbody>\n",
       "    <tr>\n",
       "      <th>0</th>\n",
       "      <td>20800</td>\n",
       "      <td>0</td>\n",
       "    </tr>\n",
       "    <tr>\n",
       "      <th>1</th>\n",
       "      <td>20801</td>\n",
       "      <td>1</td>\n",
       "    </tr>\n",
       "    <tr>\n",
       "      <th>2</th>\n",
       "      <td>20802</td>\n",
       "      <td>1</td>\n",
       "    </tr>\n",
       "    <tr>\n",
       "      <th>3</th>\n",
       "      <td>20803</td>\n",
       "      <td>0</td>\n",
       "    </tr>\n",
       "    <tr>\n",
       "      <th>4</th>\n",
       "      <td>20804</td>\n",
       "      <td>1</td>\n",
       "    </tr>\n",
       "  </tbody>\n",
       "</table>\n",
       "</div>"
      ],
      "text/plain": [
       "      id  label\n",
       "0  20800      0\n",
       "1  20801      1\n",
       "2  20802      1\n",
       "3  20803      0\n",
       "4  20804      1"
      ]
     },
     "execution_count": 36,
     "metadata": {},
     "output_type": "execute_result"
    }
   ],
   "source": [
    "submission.head()"
   ]
  },
  {
   "cell_type": "code",
   "execution_count": null,
   "id": "28b546c0",
   "metadata": {},
   "outputs": [],
   "source": []
  }
 ],
 "metadata": {
  "kernelspec": {
   "display_name": "Python 3 (ipykernel)",
   "language": "python",
   "name": "python3"
  },
  "language_info": {
   "codemirror_mode": {
    "name": "ipython",
    "version": 3
   },
   "file_extension": ".py",
   "mimetype": "text/x-python",
   "name": "python",
   "nbconvert_exporter": "python",
   "pygments_lexer": "ipython3",
   "version": "3.9.6"
  }
 },
 "nbformat": 4,
 "nbformat_minor": 5
}
